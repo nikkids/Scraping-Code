{
  "nbformat": 4,
  "nbformat_minor": 0,
  "metadata": {
    "colab": {
      "provenance": []
    },
    "kernelspec": {
      "name": "python3",
      "display_name": "Python 3"
    },
    "language_info": {
      "name": "python"
    }
  },
  "cells": [
    {
      "cell_type": "code",
      "source": [
        "!pip install"
      ],
      "metadata": {
        "id": "a6tSWLQ7OIs4"
      },
      "execution_count": null,
      "outputs": []
    },
    {
      "cell_type": "code",
      "execution_count": null,
      "metadata": {
        "colab": {
          "base_uri": "https://localhost:8080/"
        },
        "id": "vYJ1s2xzOGZN",
        "outputId": "c0b52350-ba7d-4e71-edc8-56ba53501744"
      },
      "outputs": [
        {
          "output_type": "stream",
          "name": "stdout",
          "text": [
            "Usaha: PT BPRS Insan Cita Artha Jaya\n",
            "Alamat: Jl Raya Parung Bogor No 107\n",
            "https://www.google.com/maps/search/PT+BPRS+Insan+Cita+Artha+Jaya+jalan+Raya+Parung+Bogor+No+107+Kabupaten+Bogor+Jawa+Barat\n"
          ]
        }
      ],
      "source": [
        "  import re\n",
        "from urllib.parse import quote_plus\n",
        "\n",
        "def normalize_text(text):\n",
        "    text = text.strip()\n",
        "\n",
        "    replacements = {\n",
        "        r\"\\bjl\\b\\.?\": \"jalan\",\n",
        "        r\"\\bjl\\b\": \"jalan\",\n",
        "        r\"\\bgg\\b\\.?\": \"gang\",\n",
        "        r\"\\bds\\b\\.?\": \"desa\",\n",
        "        r\"\\bkec\\b\\.?\": \"kecamatan\",\n",
        "        r\"\\bkab\\b\\.?\": \"kabupaten\",\n",
        "        r\"\\brw\\b\": \"rw\",\n",
        "        r\"\\brt\\b\": \"rt\",\n",
        "    }\n",
        "\n",
        "    for pattern, replacement in replacements.items():\n",
        "        text = re.sub(pattern, replacement, text, flags=re.IGNORECASE)\n",
        "\n",
        "    text = re.sub(r\"\\s{2,}\", \" \", text)\n",
        "    return text\n",
        "\n",
        "def generate_gmaps_query(nama_usaha, alamat, kota=None, provinsi=None):\n",
        "    nama_usaha = normalize_text(nama_usaha)\n",
        "    alamat = normalize_text(alamat)\n",
        "    kota = normalize_text(kota) if kota else \"\"\n",
        "\n",
        "\n",
        "\n",
        "    provinsi = normalize_text(provinsi) if provinsi else \"\"\n",
        "\n",
        "    full_query = f\"{nama_usaha} {alamat}\".strip()\n",
        "    if kota:\n",
        "        full_query += f\" {kota}\"\n",
        "\n",
        "\n",
        "        full_query += f\" {provinsi}\"\n",
        "\n",
        "    encoded_query = quote_plus(full_query)\n",
        "    maps_url = f\"https://www.google.com/maps/search/{encoded_query}\"\n",
        "    return maps_url\n",
        "\n",
        "nama_usaha = input(\"Usaha: \")\n",
        "alamat = input(\"Alamat: \")\n",
        "kota = 'Kabupaten Bogor'\n",
        "provinsi = 'Jawa Barat'\n",
        "\n",
        "url = generate_gmaps_query(nama_usaha, alamat, kota, provinsi)\n",
        "print(url)\n"
      ]
    },
    {
      "cell_type": "code",
      "source": [],
      "metadata": {
        "colab": {
          "base_uri": "https://localhost:8080/"
        },
        "id": "V1fwV-9b6RQ3",
        "outputId": "411f8dee-60e7-4aaa-d51d-337d80bf321c"
      },
      "execution_count": null,
      "outputs": [
        {
          "output_type": "stream",
          "name": "stdout",
          "text": [
            "Usaha: GLOBE REZEKI BERSAMA\n",
            "Alamat: \n",
            "Opening: https://www.google.com/maps/search/GLOBE+REZEKI+BERSAMA+Cirebon+Jawa+Barat\n"
          ]
        },
        {
          "output_type": "execute_result",
          "data": {
            "text/plain": [
              "False"
            ]
          },
          "metadata": {},
          "execution_count": 564
        }
      ]
    },
    {
      "cell_type": "code",
      "source": [
        "!pip install playwright"
      ],
      "metadata": {
        "colab": {
          "base_uri": "https://localhost:8080/"
        },
        "id": "ke0q5APR_X0d",
        "outputId": "95d40eba-7d7d-4534-95be-1f3f0a460cc1"
      },
      "execution_count": null,
      "outputs": [
        {
          "output_type": "stream",
          "name": "stdout",
          "text": [
            "Collecting playwright\n",
            "  Downloading playwright-1.53.0-py3-none-manylinux1_x86_64.whl.metadata (3.5 kB)\n",
            "Collecting pyee<14,>=13 (from playwright)\n",
            "  Downloading pyee-13.0.0-py3-none-any.whl.metadata (2.9 kB)\n",
            "Requirement already satisfied: greenlet<4.0.0,>=3.1.1 in /usr/local/lib/python3.11/dist-packages (from playwright) (3.2.3)\n",
            "Requirement already satisfied: typing-extensions in /usr/local/lib/python3.11/dist-packages (from pyee<14,>=13->playwright) (4.14.0)\n",
            "Downloading playwright-1.53.0-py3-none-manylinux1_x86_64.whl (45.8 MB)\n",
            "\u001b[2K   \u001b[90m━━━━━━━━━━━━━━━━━━━━━━━━━━━━━━━━━━━━━━━━\u001b[0m \u001b[32m45.8/45.8 MB\u001b[0m \u001b[31m19.1 MB/s\u001b[0m eta \u001b[36m0:00:00\u001b[0m\n",
            "\u001b[?25hDownloading pyee-13.0.0-py3-none-any.whl (15 kB)\n",
            "Installing collected packages: pyee, playwright\n",
            "Successfully installed playwright-1.53.0 pyee-13.0.0\n"
          ]
        }
      ]
    }
  ]
}